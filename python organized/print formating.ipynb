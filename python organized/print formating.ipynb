{
 "cells": [
  {
   "cell_type": "code",
   "execution_count": 1,
   "id": "c4cd6896-d75a-4223-a8ed-4eea38913d44",
   "metadata": {},
   "outputs": [
    {
     "name": "stdout",
     "output_type": "stream",
     "text": [
      "this string is INSERTED\n"
     ]
    }
   ],
   "source": [
    "print(\"this string is {}\".format('INSERTED'))"
   ]
  },
  {
   "cell_type": "code",
   "execution_count": 9,
   "id": "38bcf0b3-d2fc-4899-bdf9-3e27f0209142",
   "metadata": {},
   "outputs": [
    {
     "name": "stdout",
     "output_type": "stream",
     "text": [
      "pranjal is candy crush\n"
     ]
    }
   ],
   "source": [
    "print(\"{1} is {0} {2}\".format('candy','pranjal','crush'))"
   ]
  },
  {
   "cell_type": "code",
   "execution_count": 10,
   "id": "618ee4f4-86d3-4386-a90c-82987ad8027f",
   "metadata": {},
   "outputs": [
    {
     "name": "stdout",
     "output_type": "stream",
     "text": [
      "pranjal is candy crush\n"
     ]
    }
   ],
   "source": [
    "print(\"{p} is {l} {c}\".format(l='candy',p='pranjal',c='crush'))"
   ]
  },
  {
   "cell_type": "code",
   "execution_count": 11,
   "id": "ad8d9ec3-0c90-4469-8633-ce3e5bbad16d",
   "metadata": {},
   "outputs": [],
   "source": [
    "result = 100/777"
   ]
  },
  {
   "cell_type": "code",
   "execution_count": 12,
   "id": "10d5cd7b-1e4d-4f51-9ad9-1281ea76d279",
   "metadata": {},
   "outputs": [
    {
     "data": {
      "text/plain": [
       "0.1287001287001287"
      ]
     },
     "execution_count": 12,
     "metadata": {},
     "output_type": "execute_result"
    }
   ],
   "source": [
    "result"
   ]
  },
  {
   "cell_type": "code",
   "execution_count": 19,
   "id": "55dc86b3-5caa-4a9b-810d-2b67f471de5f",
   "metadata": {},
   "outputs": [
    {
     "name": "stdout",
     "output_type": "stream",
     "text": [
      "the result is 0.128700128700\n"
     ]
    }
   ],
   "source": [
    "print(\"the result is {r:1.12f}\".format(r=result))"
   ]
  },
  {
   "cell_type": "code",
   "execution_count": 22,
   "id": "05b64476-381c-451c-99eb-63f05b1e390e",
   "metadata": {},
   "outputs": [],
   "source": [
    "name = 'abhishek'"
   ]
  },
  {
   "cell_type": "code",
   "execution_count": 23,
   "id": "2ee4643b-0ef1-40d0-92aa-390b2d7aa77d",
   "metadata": {},
   "outputs": [
    {
     "name": "stdout",
     "output_type": "stream",
     "text": [
      "the name is abhishek\n"
     ]
    }
   ],
   "source": [
    "print(\"the name is {}\".format(name))"
   ]
  },
  {
   "cell_type": "code",
   "execution_count": 24,
   "id": "0fcd6410-a118-41cd-833a-75146741f59a",
   "metadata": {},
   "outputs": [
    {
     "name": "stdout",
     "output_type": "stream",
     "text": [
      "the name is abhishek\n"
     ]
    }
   ],
   "source": [
    "print(f\"the name is {name}\")"
   ]
  },
  {
   "cell_type": "code",
   "execution_count": 25,
   "id": "b0994ee5-cf7e-4514-9ec9-6860e2663c78",
   "metadata": {},
   "outputs": [],
   "source": [
    "age = 20"
   ]
  },
  {
   "cell_type": "code",
   "execution_count": 26,
   "id": "78a1fb50-d0a9-4988-8702-f7fcbabf293a",
   "metadata": {},
   "outputs": [
    {
     "name": "stdout",
     "output_type": "stream",
     "text": [
      "abhishek is 20 years old\n"
     ]
    }
   ],
   "source": [
    "print(f\"{name} is {age} years old\")"
   ]
  },
  {
   "cell_type": "code",
   "execution_count": null,
   "id": "9cc5f5c1-f6a5-4b91-989c-d01a70a6dfcb",
   "metadata": {},
   "outputs": [],
   "source": []
  }
 ],
 "metadata": {
  "kernelspec": {
   "display_name": "Python 3 (ipykernel)",
   "language": "python",
   "name": "python3"
  },
  "language_info": {
   "codemirror_mode": {
    "name": "ipython",
    "version": 3
   },
   "file_extension": ".py",
   "mimetype": "text/x-python",
   "name": "python",
   "nbconvert_exporter": "python",
   "pygments_lexer": "ipython3",
   "version": "3.13.1"
  }
 },
 "nbformat": 4,
 "nbformat_minor": 5
}
