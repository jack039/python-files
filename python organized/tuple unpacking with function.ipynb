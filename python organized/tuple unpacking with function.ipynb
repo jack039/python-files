{
 "cells": [
  {
   "cell_type": "code",
   "execution_count": 1,
   "id": "1ccdb4f0-6900-4a66-8c4f-74e38436f726",
   "metadata": {},
   "outputs": [],
   "source": [
    "stock_prices = [('apple',100),('google',200),('apple',300)]"
   ]
  },
  {
   "cell_type": "code",
   "execution_count": 3,
   "id": "d3ab1340-dc71-42ef-9fc7-d5b92310eb41",
   "metadata": {},
   "outputs": [
    {
     "name": "stdout",
     "output_type": "stream",
     "text": [
      "100\n",
      "200\n",
      "300\n"
     ]
    }
   ],
   "source": [
    "for name,item in stock_prices:\n",
    "    print(item)"
   ]
  },
  {
   "cell_type": "code",
   "execution_count": 4,
   "id": "3e01e361-a07b-42df-8ef2-d2f0a11087e3",
   "metadata": {},
   "outputs": [
    {
     "name": "stdout",
     "output_type": "stream",
     "text": [
      "110.0\n",
      "220.0\n",
      "330.0\n"
     ]
    }
   ],
   "source": [
    "for name,item in stock_prices:\n",
    "    print(item +(0.1*item))"
   ]
  },
  {
   "cell_type": "code",
   "execution_count": 10,
   "id": "912821c7-7ffa-4fac-aa14-547f893a4d47",
   "metadata": {},
   "outputs": [],
   "source": [
    "work_hours = [('abby',100),('stacy',2000),('lora',250)]"
   ]
  },
  {
   "cell_type": "code",
   "execution_count": 11,
   "id": "379fd674-bfbf-4d49-9f2f-662440bfb488",
   "metadata": {},
   "outputs": [],
   "source": [
    "def emp_check(work_hours):\n",
    "    current_max=0\n",
    "    emp_of_month=''\n",
    "    for employee,hours in work_hours:\n",
    "        if hours>current_max:\n",
    "            current_max=hours\n",
    "            emp_of_month=employee\n",
    "        else:\n",
    "            pass\n",
    "            \n",
    "\n",
    "\n",
    "    return (emp_of_month,current_max)"
   ]
  },
  {
   "cell_type": "code",
   "execution_count": 12,
   "id": "e00daf18-09ce-48c6-98d6-8b9a4c03ac23",
   "metadata": {},
   "outputs": [
    {
     "data": {
      "text/plain": [
       "('stacy', 2000)"
      ]
     },
     "execution_count": 12,
     "metadata": {},
     "output_type": "execute_result"
    }
   ],
   "source": [
    "emp_check(work_hours)"
   ]
  },
  {
   "cell_type": "code",
   "execution_count": 13,
   "id": "90aa746b-52cf-4021-ab8d-b9f864b36d58",
   "metadata": {},
   "outputs": [],
   "source": [
    "name,items = emp_check(work_hours)"
   ]
  },
  {
   "cell_type": "code",
   "execution_count": 14,
   "id": "e2812849-7363-4bfb-b7a6-e88e18d6bbe0",
   "metadata": {},
   "outputs": [
    {
     "data": {
      "text/plain": [
       "'stacy'"
      ]
     },
     "execution_count": 14,
     "metadata": {},
     "output_type": "execute_result"
    }
   ],
   "source": [
    "name"
   ]
  },
  {
   "cell_type": "code",
   "execution_count": 15,
   "id": "81202a3c-0457-4f73-8800-db03648545c1",
   "metadata": {},
   "outputs": [
    {
     "data": {
      "text/plain": [
       "2000"
      ]
     },
     "execution_count": 15,
     "metadata": {},
     "output_type": "execute_result"
    }
   ],
   "source": [
    "items"
   ]
  },
  {
   "cell_type": "code",
   "execution_count": null,
   "id": "b5bc1e03-f043-4e78-92a7-5e4280361859",
   "metadata": {},
   "outputs": [],
   "source": []
  }
 ],
 "metadata": {
  "kernelspec": {
   "display_name": "Python 3 (ipykernel)",
   "language": "python",
   "name": "python3"
  },
  "language_info": {
   "codemirror_mode": {
    "name": "ipython",
    "version": 3
   },
   "file_extension": ".py",
   "mimetype": "text/x-python",
   "name": "python",
   "nbconvert_exporter": "python",
   "pygments_lexer": "ipython3",
   "version": "3.13.1"
  }
 },
 "nbformat": 4,
 "nbformat_minor": 5
}
