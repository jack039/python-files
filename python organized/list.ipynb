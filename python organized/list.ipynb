{
 "cells": [
  {
   "cell_type": "code",
   "execution_count": 1,
   "id": "455a664d-d88c-4118-a71d-e277db5a8d2f",
   "metadata": {},
   "outputs": [],
   "source": [
    "my_list = [1,2,2,3,4,5]"
   ]
  },
  {
   "cell_type": "code",
   "execution_count": 2,
   "id": "8a9267cb-2919-4f32-b357-2154da9aed54",
   "metadata": {},
   "outputs": [
    {
     "data": {
      "text/plain": [
       "[1, 2, 2, 3, 4, 5]"
      ]
     },
     "execution_count": 2,
     "metadata": {},
     "output_type": "execute_result"
    }
   ],
   "source": [
    "my_list"
   ]
  },
  {
   "cell_type": "code",
   "execution_count": 3,
   "id": "1bb253e9-4365-4244-bbdc-a8227d27d826",
   "metadata": {},
   "outputs": [],
   "source": [
    "my_list = [\"prj\" , 9.70 ,\"hell no\" ,2.64]"
   ]
  },
  {
   "cell_type": "code",
   "execution_count": 4,
   "id": "e0ec314b-ed69-43ef-a96b-64c362541839",
   "metadata": {},
   "outputs": [
    {
     "data": {
      "text/plain": [
       "['prj', 9.7, 'hell no', 2.64]"
      ]
     },
     "execution_count": 4,
     "metadata": {},
     "output_type": "execute_result"
    }
   ],
   "source": [
    "my_list"
   ]
  },
  {
   "cell_type": "code",
   "execution_count": 5,
   "id": "25584ea2-50f2-4198-be0d-d6f747ef9c32",
   "metadata": {},
   "outputs": [
    {
     "data": {
      "text/plain": [
       "4"
      ]
     },
     "execution_count": 5,
     "metadata": {},
     "output_type": "execute_result"
    }
   ],
   "source": [
    "len(my_list)"
   ]
  },
  {
   "cell_type": "code",
   "execution_count": 6,
   "id": "75f39890-a346-485a-a06c-c7c6831dd4e3",
   "metadata": {},
   "outputs": [
    {
     "data": {
      "text/plain": [
       "'prj'"
      ]
     },
     "execution_count": 6,
     "metadata": {},
     "output_type": "execute_result"
    }
   ],
   "source": [
    "my_list[0]"
   ]
  },
  {
   "cell_type": "code",
   "execution_count": 7,
   "id": "2d820a33-5943-4169-a488-6fa29e349f20",
   "metadata": {},
   "outputs": [
    {
     "data": {
      "text/plain": [
       "['prj', 9.7, 'hell no', 2.64]"
      ]
     },
     "execution_count": 7,
     "metadata": {},
     "output_type": "execute_result"
    }
   ],
   "source": [
    "my_list[0:]"
   ]
  },
  {
   "cell_type": "code",
   "execution_count": 9,
   "id": "15e385dc-af4e-40a5-b3d8-acc06656f662",
   "metadata": {},
   "outputs": [],
   "source": [
    "another_list = ['candy','crush']"
   ]
  },
  {
   "cell_type": "code",
   "execution_count": 10,
   "id": "07462475-a20c-4381-86c0-0e7dc3a7c3f8",
   "metadata": {},
   "outputs": [
    {
     "data": {
      "text/plain": [
       "['candy', 'crush']"
      ]
     },
     "execution_count": 10,
     "metadata": {},
     "output_type": "execute_result"
    }
   ],
   "source": [
    "another_list"
   ]
  },
  {
   "cell_type": "code",
   "execution_count": 12,
   "id": "ce7ae506-2b22-4528-889d-4844dad2e7ba",
   "metadata": {},
   "outputs": [],
   "source": [
    "new_list=my_list + another_list"
   ]
  },
  {
   "cell_type": "code",
   "execution_count": 13,
   "id": "ea9fe0f8-3afb-47a1-a524-5060b0898215",
   "metadata": {},
   "outputs": [
    {
     "data": {
      "text/plain": [
       "['prj', 9.7, 'hell no', 2.64, 'candy', 'crush']"
      ]
     },
     "execution_count": 13,
     "metadata": {},
     "output_type": "execute_result"
    }
   ],
   "source": [
    "new_list"
   ]
  },
  {
   "cell_type": "code",
   "execution_count": 14,
   "id": "041f7bb1-2b0e-4fea-b051-75a8392b841d",
   "metadata": {},
   "outputs": [],
   "source": [
    "new_list[0] = 'PRJ'"
   ]
  },
  {
   "cell_type": "code",
   "execution_count": 15,
   "id": "b50d3019-9834-491b-b55e-f504c43df05e",
   "metadata": {},
   "outputs": [
    {
     "data": {
      "text/plain": [
       "['PRJ', 9.7, 'hell no', 2.64, 'candy', 'crush']"
      ]
     },
     "execution_count": 15,
     "metadata": {},
     "output_type": "execute_result"
    }
   ],
   "source": [
    "new_list"
   ]
  },
  {
   "cell_type": "code",
   "execution_count": 16,
   "id": "331ff9da-9ef6-47e5-8da6-705878af447f",
   "metadata": {},
   "outputs": [],
   "source": [
    "new_list.append('abhishek')"
   ]
  },
  {
   "cell_type": "code",
   "execution_count": 17,
   "id": "defd8a95-884e-4efa-969d-2bf12c8c3394",
   "metadata": {},
   "outputs": [
    {
     "data": {
      "text/plain": [
       "['PRJ', 9.7, 'hell no', 2.64, 'candy', 'crush', 'abhishek']"
      ]
     },
     "execution_count": 17,
     "metadata": {},
     "output_type": "execute_result"
    }
   ],
   "source": [
    "new_list"
   ]
  },
  {
   "cell_type": "code",
   "execution_count": 19,
   "id": "4bd8cfbf-13b8-407d-8c8c-320332e005c7",
   "metadata": {},
   "outputs": [
    {
     "data": {
      "text/plain": [
       "'abhishek'"
      ]
     },
     "execution_count": 19,
     "metadata": {},
     "output_type": "execute_result"
    }
   ],
   "source": [
    "new_list.pop()"
   ]
  },
  {
   "cell_type": "code",
   "execution_count": 20,
   "id": "3a45ec12-473e-483b-abe1-ae15a4a406da",
   "metadata": {},
   "outputs": [
    {
     "data": {
      "text/plain": [
       "['PRJ', 9.7, 'hell no', 2.64, 'candy', 'crush']"
      ]
     },
     "execution_count": 20,
     "metadata": {},
     "output_type": "execute_result"
    }
   ],
   "source": [
    "new_list"
   ]
  },
  {
   "cell_type": "code",
   "execution_count": 21,
   "id": "b3df33ce-b094-4a1b-9041-9227cef853e6",
   "metadata": {},
   "outputs": [
    {
     "data": {
      "text/plain": [
       "'hell no'"
      ]
     },
     "execution_count": 21,
     "metadata": {},
     "output_type": "execute_result"
    }
   ],
   "source": [
    "new_list.pop(2)"
   ]
  },
  {
   "cell_type": "code",
   "execution_count": 22,
   "id": "77555542-3ebf-4c0c-9d75-53a613e373cf",
   "metadata": {},
   "outputs": [
    {
     "data": {
      "text/plain": [
       "['PRJ', 9.7, 2.64, 'candy', 'crush']"
      ]
     },
     "execution_count": 22,
     "metadata": {},
     "output_type": "execute_result"
    }
   ],
   "source": [
    "new_list"
   ]
  },
  {
   "cell_type": "code",
   "execution_count": 31,
   "id": "83977adf-9ab3-4ab2-9e08-73c491e53777",
   "metadata": {},
   "outputs": [],
   "source": [
    "new_list = ['a','b','q','v']\n",
    "num_list = [1,9,4,7,6]"
   ]
  },
  {
   "cell_type": "code",
   "execution_count": 32,
   "id": "c5f629c2-7b39-4a4e-bb59-dbdc7764aa53",
   "metadata": {},
   "outputs": [
    {
     "data": {
      "text/plain": [
       "['a', 'b', 'q', 'v']"
      ]
     },
     "execution_count": 32,
     "metadata": {},
     "output_type": "execute_result"
    }
   ],
   "source": [
    "new_list.sort()\n",
    "new_list"
   ]
  },
  {
   "cell_type": "code",
   "execution_count": 33,
   "id": "06807c11-2fd2-41bc-a360-d6ae4d420f5f",
   "metadata": {},
   "outputs": [
    {
     "data": {
      "text/plain": [
       "[1, 4, 6, 7, 9]"
      ]
     },
     "execution_count": 33,
     "metadata": {},
     "output_type": "execute_result"
    }
   ],
   "source": [
    "num_list.sort()\n",
    "num_list"
   ]
  },
  {
   "cell_type": "code",
   "execution_count": 34,
   "id": "4259ccb8-c8a2-4c0e-8cbb-ce45433695f3",
   "metadata": {},
   "outputs": [
    {
     "data": {
      "text/plain": [
       "list"
      ]
     },
     "execution_count": 34,
     "metadata": {},
     "output_type": "execute_result"
    }
   ],
   "source": [
    "type(num_list)"
   ]
  },
  {
   "cell_type": "code",
   "execution_count": 35,
   "id": "68997d8f-9b1d-4fe6-90d1-104a9fd73b36",
   "metadata": {},
   "outputs": [
    {
     "data": {
      "text/plain": [
       "[9, 7, 6, 4, 1]"
      ]
     },
     "execution_count": 35,
     "metadata": {},
     "output_type": "execute_result"
    }
   ],
   "source": [
    "num_list.reverse()\n",
    "num_list"
   ]
  },
  {
   "cell_type": "code",
   "execution_count": null,
   "id": "3bb42b82-936a-4363-83b5-144515186cfd",
   "metadata": {},
   "outputs": [],
   "source": []
  }
 ],
 "metadata": {
  "kernelspec": {
   "display_name": "Python 3 (ipykernel)",
   "language": "python",
   "name": "python3"
  },
  "language_info": {
   "codemirror_mode": {
    "name": "ipython",
    "version": 3
   },
   "file_extension": ".py",
   "mimetype": "text/x-python",
   "name": "python",
   "nbconvert_exporter": "python",
   "pygments_lexer": "ipython3",
   "version": "3.13.1"
  }
 },
 "nbformat": 4,
 "nbformat_minor": 5
}
