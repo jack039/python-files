{
 "cells": [
  {
   "cell_type": "code",
   "execution_count": 3,
   "id": "44c31449-4738-4526-8846-ec9823dfb518",
   "metadata": {},
   "outputs": [],
   "source": [
    "def say_hello():\n",
    "    print('hello')\n",
    "    print('hoe')\n",
    "    print('are you')"
   ]
  },
  {
   "cell_type": "code",
   "execution_count": 6,
   "id": "ef7e291e-9f52-462a-8a7e-b6516f8ca486",
   "metadata": {},
   "outputs": [
    {
     "name": "stdout",
     "output_type": "stream",
     "text": [
      "hello\n",
      "hoe\n",
      "are you\n"
     ]
    }
   ],
   "source": [
    "say_hello()"
   ]
  },
  {
   "cell_type": "code",
   "execution_count": 14,
   "id": "f2a42736-bd8a-4960-9019-f725beb4d635",
   "metadata": {},
   "outputs": [],
   "source": [
    "def say_hello(name ='default'):\n",
    "    print('hello ' + name)"
   ]
  },
  {
   "cell_type": "code",
   "execution_count": 12,
   "id": "1790de51-8ae3-4240-818e-5db635253d16",
   "metadata": {},
   "outputs": [
    {
     "name": "stdout",
     "output_type": "stream",
     "text": [
      "hello jelly\n"
     ]
    }
   ],
   "source": [
    "say_hello('jelly')"
   ]
  },
  {
   "cell_type": "code",
   "execution_count": 13,
   "id": "b5d979ec-f70f-46c2-a575-b8b203f23d74",
   "metadata": {},
   "outputs": [
    {
     "name": "stdout",
     "output_type": "stream",
     "text": [
      "hello prj\n"
     ]
    }
   ],
   "source": [
    "say_hello()"
   ]
  },
  {
   "cell_type": "code",
   "execution_count": 15,
   "id": "83c744c2-6189-4653-9528-4a85651d8d1b",
   "metadata": {},
   "outputs": [],
   "source": [
    "def add_fun(num1,num2):\n",
    "    return num1+num2"
   ]
  },
  {
   "cell_type": "code",
   "execution_count": 17,
   "id": "f4d016a6-8fff-41a7-8d3d-058c3a82500d",
   "metadata": {},
   "outputs": [
    {
     "data": {
      "text/plain": [
       "32"
      ]
     },
     "execution_count": 17,
     "metadata": {},
     "output_type": "execute_result"
    }
   ],
   "source": [
    "result = add_fun(23,9)\n",
    "result"
   ]
  },
  {
   "cell_type": "code",
   "execution_count": null,
   "id": "af27f174-4f8f-4c8e-acaa-be6a961f5b99",
   "metadata": {},
   "outputs": [],
   "source": []
  }
 ],
 "metadata": {
  "kernelspec": {
   "display_name": "Python 3 (ipykernel)",
   "language": "python",
   "name": "python3"
  },
  "language_info": {
   "codemirror_mode": {
    "name": "ipython",
    "version": 3
   },
   "file_extension": ".py",
   "mimetype": "text/x-python",
   "name": "python",
   "nbconvert_exporter": "python",
   "pygments_lexer": "ipython3",
   "version": "3.13.1"
  }
 },
 "nbformat": 4,
 "nbformat_minor": 5
}
