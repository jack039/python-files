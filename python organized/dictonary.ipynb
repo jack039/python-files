{
 "cells": [
  {
   "cell_type": "code",
   "execution_count": 9,
   "id": "b452a69c-4aff-4239-91ca-04f40a465de3",
   "metadata": {},
   "outputs": [],
   "source": [
    "my_dict = {'key1':'value1','key2':'value2','banana':'dbubu'}"
   ]
  },
  {
   "cell_type": "code",
   "execution_count": 10,
   "id": "b273e354-ade4-4da2-a44b-ed3e80a1ab07",
   "metadata": {},
   "outputs": [
    {
     "data": {
      "text/plain": [
       "{'key1': 'value1', 'key2': 'value2', 'banana': 'dbubu'}"
      ]
     },
     "execution_count": 10,
     "metadata": {},
     "output_type": "execute_result"
    }
   ],
   "source": [
    "my_dict"
   ]
  },
  {
   "cell_type": "code",
   "execution_count": 11,
   "id": "bb5e4192-d67f-40c2-a380-7a50781ef404",
   "metadata": {},
   "outputs": [
    {
     "data": {
      "text/plain": [
       "'value2'"
      ]
     },
     "execution_count": 11,
     "metadata": {},
     "output_type": "execute_result"
    }
   ],
   "source": [
    "my_dict['key2']"
   ]
  },
  {
   "cell_type": "code",
   "execution_count": 12,
   "id": "761c3491-563c-4177-9fcb-ea68beca8ec1",
   "metadata": {},
   "outputs": [],
   "source": [
    "prices_lookup = {'apple':200,'banana':100}"
   ]
  },
  {
   "cell_type": "code",
   "execution_count": 16,
   "id": "6bd09cca-08f3-4005-b6cb-68312cda7ba6",
   "metadata": {},
   "outputs": [],
   "source": [
    "prices_lookup = ['apple']"
   ]
  },
  {
   "cell_type": "code",
   "execution_count": 20,
   "id": "b89b50d4-5c9b-4544-87c0-8a2b249c792d",
   "metadata": {},
   "outputs": [],
   "source": [
    " d = { 'k1':'abc','k2':['a','b','c'],'k3':{'inside_dic':'hello'}}"
   ]
  },
  {
   "cell_type": "code",
   "execution_count": 27,
   "id": "eead9032-0b93-4304-91f7-f9b8d1a14a68",
   "metadata": {},
   "outputs": [],
   "source": [
    "letter = d['k2'][0]"
   ]
  },
  {
   "cell_type": "code",
   "execution_count": 24,
   "id": "f67309cc-eaad-4105-9690-d33263ff3247",
   "metadata": {},
   "outputs": [
    {
     "data": {
      "text/plain": [
       "'hello'"
      ]
     },
     "execution_count": 24,
     "metadata": {},
     "output_type": "execute_result"
    }
   ],
   "source": [
    "d['k3']['inside_dic']"
   ]
  },
  {
   "cell_type": "code",
   "execution_count": 29,
   "id": "af73b83f-2b52-43d4-8031-7d12d3d3e784",
   "metadata": {},
   "outputs": [
    {
     "data": {
      "text/plain": [
       "'A'"
      ]
     },
     "execution_count": 29,
     "metadata": {},
     "output_type": "execute_result"
    }
   ],
   "source": [
    "letter.upper()"
   ]
  },
  {
   "cell_type": "code",
   "execution_count": 31,
   "id": "2304583f-a6c0-4a91-a1bb-9d600f6618bd",
   "metadata": {},
   "outputs": [
    {
     "data": {
      "text/plain": [
       "'A'"
      ]
     },
     "execution_count": 31,
     "metadata": {},
     "output_type": "execute_result"
    }
   ],
   "source": [
    "d['k2'][0].upper()"
   ]
  },
  {
   "cell_type": "code",
   "execution_count": 32,
   "id": "aa1625a8-2e82-45d9-8c8f-d9471927c850",
   "metadata": {},
   "outputs": [],
   "source": [
    "d = {'k1':100,'k2':200}"
   ]
  },
  {
   "cell_type": "code",
   "execution_count": 33,
   "id": "c0601c09-94be-489f-830a-0182d2e70982",
   "metadata": {},
   "outputs": [],
   "source": [
    "d['k3']=300"
   ]
  },
  {
   "cell_type": "code",
   "execution_count": 34,
   "id": "6b20f61b-56b2-4d60-9b9a-74c64edcacd7",
   "metadata": {},
   "outputs": [
    {
     "data": {
      "text/plain": [
       "{'k1': 100, 'k2': 200, 'k3': 300}"
      ]
     },
     "execution_count": 34,
     "metadata": {},
     "output_type": "execute_result"
    }
   ],
   "source": [
    "d"
   ]
  },
  {
   "cell_type": "code",
   "execution_count": 35,
   "id": "22fc8b33-6a12-4b16-8f39-c241a879aa0e",
   "metadata": {},
   "outputs": [],
   "source": [
    "d['k1'] = 'prj'"
   ]
  },
  {
   "cell_type": "code",
   "execution_count": 36,
   "id": "485f8868-4eb5-4826-866c-f05193019ebd",
   "metadata": {},
   "outputs": [
    {
     "data": {
      "text/plain": [
       "{'k1': 'prj', 'k2': 200, 'k3': 300}"
      ]
     },
     "execution_count": 36,
     "metadata": {},
     "output_type": "execute_result"
    }
   ],
   "source": [
    "d"
   ]
  },
  {
   "cell_type": "code",
   "execution_count": 37,
   "id": "70c131ec-7935-4bdc-bca6-5a459d5ebb60",
   "metadata": {},
   "outputs": [
    {
     "data": {
      "text/plain": [
       "dict_keys(['k1', 'k2', 'k3'])"
      ]
     },
     "execution_count": 37,
     "metadata": {},
     "output_type": "execute_result"
    }
   ],
   "source": [
    "d.keys()"
   ]
  },
  {
   "cell_type": "code",
   "execution_count": 38,
   "id": "6e54dcfa-2ad9-47c7-af08-26a7aafd8d80",
   "metadata": {},
   "outputs": [
    {
     "data": {
      "text/plain": [
       "dict_values(['prj', 200, 300])"
      ]
     },
     "execution_count": 38,
     "metadata": {},
     "output_type": "execute_result"
    }
   ],
   "source": [
    "d.values()"
   ]
  },
  {
   "cell_type": "code",
   "execution_count": null,
   "id": "242e7bb7-164e-402b-8d54-3c4bc414164a",
   "metadata": {},
   "outputs": [],
   "source": []
  }
 ],
 "metadata": {
  "kernelspec": {
   "display_name": "Python 3 (ipykernel)",
   "language": "python",
   "name": "python3"
  },
  "language_info": {
   "codemirror_mode": {
    "name": "ipython",
    "version": 3
   },
   "file_extension": ".py",
   "mimetype": "text/x-python",
   "name": "python",
   "nbconvert_exporter": "python",
   "pygments_lexer": "ipython3",
   "version": "3.13.1"
  }
 },
 "nbformat": 4,
 "nbformat_minor": 5
}
