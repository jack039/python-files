{
 "cells": [
  {
   "cell_type": "code",
   "execution_count": 1,
   "id": "05c44a72-2f6a-4ccf-8747-8e5eae7974c6",
   "metadata": {},
   "outputs": [],
   "source": [
    "mystring ='Hello'"
   ]
  },
  {
   "cell_type": "code",
   "execution_count": 3,
   "id": "3100a5de-c619-4e8c-94c7-eedf68c4395b",
   "metadata": {},
   "outputs": [],
   "source": [
    "mylist = []\n",
    "for letter in mystring:\n",
    "     mylist.append(letter)"
   ]
  },
  {
   "cell_type": "code",
   "execution_count": 4,
   "id": "30581b39-9458-46fa-ac1b-9824041ea770",
   "metadata": {},
   "outputs": [
    {
     "data": {
      "text/plain": [
       "['H', 'e', 'l', 'l', 'o']"
      ]
     },
     "execution_count": 4,
     "metadata": {},
     "output_type": "execute_result"
    }
   ],
   "source": [
    "mylist"
   ]
  },
  {
   "cell_type": "code",
   "execution_count": 10,
   "id": "50267332-648f-4eb6-8f14-8d8de5c034fd",
   "metadata": {},
   "outputs": [],
   "source": [
    "mylist = [letter for letter in mystring]"
   ]
  },
  {
   "cell_type": "code",
   "execution_count": 24,
   "id": "38e45538-7f6d-4a18-89e7-04b7d3ee03b9",
   "metadata": {},
   "outputs": [
    {
     "data": {
      "text/plain": [
       "[0, 2, 4, 6, 8, 10]"
      ]
     },
     "execution_count": 24,
     "metadata": {},
     "output_type": "execute_result"
    }
   ],
   "source": [
    "mylist"
   ]
  },
  {
   "cell_type": "code",
   "execution_count": 13,
   "id": "4bfea179-87ce-46bc-9e57-4aeb2bbbe380",
   "metadata": {},
   "outputs": [],
   "source": [
    "mylist = []"
   ]
  },
  {
   "cell_type": "code",
   "execution_count": 20,
   "id": "b32b5fe8-3ae2-4515-b5ed-550c0e4608be",
   "metadata": {},
   "outputs": [],
   "source": [
    "mylist = [x**2 for x in range(0,10,2)]"
   ]
  },
  {
   "cell_type": "code",
   "execution_count": 23,
   "id": "b8686404-741f-4329-b24f-2577414318a3",
   "metadata": {},
   "outputs": [],
   "source": [
    "mylist =[x for x in range(0,11) if x%2==0]"
   ]
  },
  {
   "cell_type": "code",
   "execution_count": 26,
   "id": "aa145aa2-d40d-496a-ac21-a21c7ab301fd",
   "metadata": {},
   "outputs": [],
   "source": [
    "celcius = [10,20,32.5,43.69]\n",
    "\n",
    "farenheit = [ ( (9/11)*temp + 32) for temp in celcius]"
   ]
  },
  {
   "cell_type": "code",
   "execution_count": 27,
   "id": "a7c50dcf-6667-474d-b13d-74c9b7a55118",
   "metadata": {},
   "outputs": [
    {
     "data": {
      "text/plain": [
       "[40.18181818181818, 48.36363636363636, 58.59090909090909, 67.74636363636364]"
      ]
     },
     "execution_count": 27,
     "metadata": {},
     "output_type": "execute_result"
    }
   ],
   "source": [
    "farenheit"
   ]
  },
  {
   "cell_type": "code",
   "execution_count": 30,
   "id": "fe59b2db-d57e-492b-be64-82e44b7efffc",
   "metadata": {},
   "outputs": [],
   "source": [
    "results = [ x if x%2==0 else 'prj' for x in range(0,11) ]"
   ]
  },
  {
   "cell_type": "code",
   "execution_count": 31,
   "id": "2d3ff644-b391-45fc-af92-7fd4c47b0ac8",
   "metadata": {},
   "outputs": [
    {
     "data": {
      "text/plain": [
       "[0, 'prj', 2, 'prj', 4, 'prj', 6, 'prj', 8, 'prj', 10]"
      ]
     },
     "execution_count": 31,
     "metadata": {},
     "output_type": "execute_result"
    }
   ],
   "source": [
    "results"
   ]
  },
  {
   "cell_type": "code",
   "execution_count": 32,
   "id": "b757e2c4-dab0-41c7-b31c-166795e6a692",
   "metadata": {},
   "outputs": [],
   "source": [
    "mylist =[]\n",
    "\n",
    "for x in [2,3,4]:\n",
    "    for y in [100,200,300]:\n",
    "        mylist.append(x*y)"
   ]
  },
  {
   "cell_type": "code",
   "execution_count": 33,
   "id": "459bb7ec-62ad-465c-8ced-dcc932f682b9",
   "metadata": {},
   "outputs": [
    {
     "data": {
      "text/plain": [
       "[200, 400, 600, 300, 600, 900, 400, 800, 1200]"
      ]
     },
     "execution_count": 33,
     "metadata": {},
     "output_type": "execute_result"
    }
   ],
   "source": [
    "mylist"
   ]
  },
  {
   "cell_type": "code",
   "execution_count": 34,
   "id": "75c8fc6d-35f7-48d6-bdc2-4e7c8b1ae71a",
   "metadata": {},
   "outputs": [],
   "source": [
    "mylist = [x*y for x in [2,3,4] for y in [1,10,100]]"
   ]
  },
  {
   "cell_type": "code",
   "execution_count": 35,
   "id": "6eb22c11-d99f-4ba4-9655-5f91f332b30d",
   "metadata": {},
   "outputs": [
    {
     "data": {
      "text/plain": [
       "[2, 20, 200, 3, 30, 300, 4, 40, 400]"
      ]
     },
     "execution_count": 35,
     "metadata": {},
     "output_type": "execute_result"
    }
   ],
   "source": [
    "mylist"
   ]
  },
  {
   "cell_type": "code",
   "execution_count": null,
   "id": "b5c28f02-3e43-48a4-aad2-5011f780afd1",
   "metadata": {},
   "outputs": [],
   "source": []
  }
 ],
 "metadata": {
  "kernelspec": {
   "display_name": "Python 3 (ipykernel)",
   "language": "python",
   "name": "python3"
  },
  "language_info": {
   "codemirror_mode": {
    "name": "ipython",
    "version": 3
   },
   "file_extension": ".py",
   "mimetype": "text/x-python",
   "name": "python",
   "nbconvert_exporter": "python",
   "pygments_lexer": "ipython3",
   "version": "3.13.1"
  }
 },
 "nbformat": 4,
 "nbformat_minor": 5
}
