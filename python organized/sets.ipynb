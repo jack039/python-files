{
 "cells": [
  {
   "cell_type": "code",
   "execution_count": null,
   "id": "a41d9feb-4e6c-414b-9dc8-8d50197a76c7",
   "metadata": {},
   "outputs": [],
   "source": [
    "okset = set()\n",
    "\n",
    "okset"
   ]
  },
  {
   "cell_type": "code",
   "execution_count": 3,
   "id": "ff658b5c-d9fb-442d-bb81-29e424ec8af1",
   "metadata": {},
   "outputs": [],
   "source": [
    "okset.add('a')"
   ]
  },
  {
   "cell_type": "code",
   "execution_count": 4,
   "id": "ba35de1f-28f8-4d58-8cd5-530ccb926933",
   "metadata": {},
   "outputs": [
    {
     "data": {
      "text/plain": [
       "{'a'}"
      ]
     },
     "execution_count": 4,
     "metadata": {},
     "output_type": "execute_result"
    }
   ],
   "source": [
    "okset"
   ]
  },
  {
   "cell_type": "code",
   "execution_count": 5,
   "id": "5b1880f2-6614-40f0-a8ab-091342b73954",
   "metadata": {},
   "outputs": [],
   "source": [
    "okset.add('2')"
   ]
  },
  {
   "cell_type": "code",
   "execution_count": 6,
   "id": "42039773-d432-4b7c-850e-f48cf718702c",
   "metadata": {},
   "outputs": [
    {
     "data": {
      "text/plain": [
       "{'2', 'a'}"
      ]
     },
     "execution_count": 6,
     "metadata": {},
     "output_type": "execute_result"
    }
   ],
   "source": [
    "okset"
   ]
  },
  {
   "cell_type": "code",
   "execution_count": 7,
   "id": "ac367e90-0ba1-4424-812b-a32a1b4165eb",
   "metadata": {},
   "outputs": [],
   "source": [
    "okset.add('2')"
   ]
  },
  {
   "cell_type": "code",
   "execution_count": 8,
   "id": "b8be7546-b954-4d66-ae17-e8cb5bf8f940",
   "metadata": {},
   "outputs": [
    {
     "data": {
      "text/plain": [
       "{'2', 'a'}"
      ]
     },
     "execution_count": 8,
     "metadata": {},
     "output_type": "execute_result"
    }
   ],
   "source": [
    "okset"
   ]
  },
  {
   "cell_type": "code",
   "execution_count": 17,
   "id": "3892381f-2cbc-4174-b5f3-08222fda3de8",
   "metadata": {},
   "outputs": [],
   "source": [
    "mylist = [3,1,2,3,' ',3,2]"
   ]
  },
  {
   "cell_type": "code",
   "execution_count": 16,
   "id": "5cd6d0ea-3edb-4a05-beae-2c8f3c232b33",
   "metadata": {},
   "outputs": [
    {
     "data": {
      "text/plain": [
       "{' ', 1, 2, 3}"
      ]
     },
     "execution_count": 16,
     "metadata": {},
     "output_type": "execute_result"
    }
   ],
   "source": [
    "set(mylist)"
   ]
  },
  {
   "cell_type": "code",
   "execution_count": 18,
   "id": "2ac02dbe-0d5c-4e16-8ee0-cbf6cb45be1e",
   "metadata": {},
   "outputs": [],
   "source": [
    "mylist = [1,2,2,33,4,4,11,22,3,3,2]"
   ]
  },
  {
   "cell_type": "code",
   "execution_count": 19,
   "id": "fbce0623-79c2-4431-acf9-914fef9f67be",
   "metadata": {},
   "outputs": [
    {
     "data": {
      "text/plain": [
       "{1, 2, 3, 4, 11, 22, 33}"
      ]
     },
     "execution_count": 19,
     "metadata": {},
     "output_type": "execute_result"
    }
   ],
   "source": [
    "set(mylist)"
   ]
  },
  {
   "cell_type": "code",
   "execution_count": null,
   "id": "66c3c181-c2a8-41ad-9653-ca1c16a38bf7",
   "metadata": {},
   "outputs": [],
   "source": []
  }
 ],
 "metadata": {
  "kernelspec": {
   "display_name": "Python 3 (ipykernel)",
   "language": "python",
   "name": "python3"
  },
  "language_info": {
   "codemirror_mode": {
    "name": "ipython",
    "version": 3
   },
   "file_extension": ".py",
   "mimetype": "text/x-python",
   "name": "python",
   "nbconvert_exporter": "python",
   "pygments_lexer": "ipython3",
   "version": "3.13.1"
  }
 },
 "nbformat": 4,
 "nbformat_minor": 5
}
