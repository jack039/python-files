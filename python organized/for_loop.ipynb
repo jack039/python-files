{
 "cells": [
  {
   "cell_type": "code",
   "execution_count": 1,
   "id": "f22d68c5-6dbe-4ea2-8337-61b78674922e",
   "metadata": {},
   "outputs": [],
   "source": [
    "mylist = [1,2,3,4,5,6,7,8,9,10]"
   ]
  },
  {
   "cell_type": "code",
   "execution_count": 5,
   "id": "f6563a59-bbbc-4506-8031-682996d5d9cf",
   "metadata": {},
   "outputs": [
    {
     "name": "stdout",
     "output_type": "stream",
     "text": [
      "hello\n",
      "hello\n",
      "hello\n",
      "hello\n",
      "hello\n",
      "hello\n",
      "hello\n",
      "hello\n",
      "hello\n",
      "hello\n"
     ]
    }
   ],
   "source": [
    "for jelly in mylist:\n",
    "    print('hello')"
   ]
  },
  {
   "cell_type": "code",
   "execution_count": 8,
   "id": "fc71ee55-593f-436e-9906-617091bfc03b",
   "metadata": {},
   "outputs": [
    {
     "name": "stdout",
     "output_type": "stream",
     "text": [
      "2\n",
      "4\n",
      "6\n",
      "8\n",
      "10\n"
     ]
    }
   ],
   "source": [
    "for num in mylist:\n",
    "    if num%2==0:\n",
    "        print(num)"
   ]
  },
  {
   "cell_type": "code",
   "execution_count": 11,
   "id": "aa2b54ab-b5a2-4c30-bd4e-03a068f93448",
   "metadata": {},
   "outputs": [
    {
     "name": "stdout",
     "output_type": "stream",
     "text": [
      "prj\n",
      "2\n",
      "prj\n",
      "4\n",
      "prj\n",
      "6\n",
      "prj\n",
      "8\n",
      "prj\n",
      "10\n"
     ]
    }
   ],
   "source": [
    "for num in mylist:\n",
    "    if num%2==0:\n",
    "        print(num)\n",
    "    else:\n",
    "        print('prj')"
   ]
  },
  {
   "cell_type": "code",
   "execution_count": 14,
   "id": "e1f0b1c9-10ce-49f7-8e58-91e6ffbe050c",
   "metadata": {},
   "outputs": [
    {
     "name": "stdout",
     "output_type": "stream",
     "text": [
      "55\n"
     ]
    }
   ],
   "source": [
    "list_sum = 0\n",
    "for num in mylist:\n",
    "    list_sum=list_sum + num\n",
    "print(list_sum)"
   ]
  },
  {
   "cell_type": "code",
   "execution_count": 15,
   "id": "a2422072-bfae-4890-82a3-c687543c4be6",
   "metadata": {},
   "outputs": [
    {
     "name": "stdout",
     "output_type": "stream",
     "text": [
      "h\n",
      "e\n",
      "l\n",
      "l\n",
      "o\n",
      " \n",
      "w\n",
      "o\n",
      "r\n",
      "l\n",
      "d\n"
     ]
    }
   ],
   "source": [
    "for prj in 'hello world':\n",
    "    print(prj)"
   ]
  },
  {
   "cell_type": "code",
   "execution_count": 17,
   "id": "78e920a2-3dde-4668-b2db-6569514dcf7a",
   "metadata": {},
   "outputs": [
    {
     "name": "stdout",
     "output_type": "stream",
     "text": [
      "1\n",
      "2\n",
      "3\n",
      "3\n"
     ]
    }
   ],
   "source": [
    "tup = (1,2,3,3)\n",
    "for tp in tup:\n",
    "    print(tp)"
   ]
  },
  {
   "cell_type": "code",
   "execution_count": 18,
   "id": "bcdbfa3d-5ea4-4166-a59b-761d02c3f7d9",
   "metadata": {},
   "outputs": [],
   "source": [
    "mylist = [(1,2),(3,4),(5,6),(7,8)]"
   ]
  },
  {
   "cell_type": "code",
   "execution_count": 23,
   "id": "292325fd-07bd-4102-83e1-6c5e54b117d2",
   "metadata": {},
   "outputs": [
    {
     "name": "stdout",
     "output_type": "stream",
     "text": [
      "2\n",
      "4\n",
      "6\n",
      "8\n"
     ]
    }
   ],
   "source": [
    "for a,b in mylist:\n",
    "    print(b)\n",
    "    "
   ]
  },
  {
   "cell_type": "code",
   "execution_count": 26,
   "id": "1bbe0de0-a9c8-42ad-bee7-40e84dee32ca",
   "metadata": {},
   "outputs": [
    {
     "name": "stdout",
     "output_type": "stream",
     "text": [
      "1\n",
      "2\n",
      "3\n"
     ]
    }
   ],
   "source": [
    "d ={'k1':1,'k2':2,'k3':3}\n",
    "\n",
    "for key,values in d.items():\n",
    "    print(values)"
   ]
  },
  {
   "cell_type": "code",
   "execution_count": 28,
   "id": "a1df3a60-68b0-4f59-9cad-bd3f3030df28",
   "metadata": {},
   "outputs": [
    {
     "name": "stdout",
     "output_type": "stream",
     "text": [
      "1\n",
      "2\n",
      "3\n"
     ]
    }
   ],
   "source": [
    "d ={'k1':1,'k2':2,'k3':3}\n",
    "\n",
    "for values in d.values():\n",
    "    print(values)"
   ]
  },
  {
   "cell_type": "code",
   "execution_count": null,
   "id": "ea93469b-1440-460f-bd38-7fb0fb66cdbc",
   "metadata": {},
   "outputs": [],
   "source": []
  }
 ],
 "metadata": {
  "kernelspec": {
   "display_name": "Python 3 (ipykernel)",
   "language": "python",
   "name": "python3"
  },
  "language_info": {
   "codemirror_mode": {
    "name": "ipython",
    "version": 3
   },
   "file_extension": ".py",
   "mimetype": "text/x-python",
   "name": "python",
   "nbconvert_exporter": "python",
   "pygments_lexer": "ipython3",
   "version": "3.13.1"
  }
 },
 "nbformat": 4,
 "nbformat_minor": 5
}
