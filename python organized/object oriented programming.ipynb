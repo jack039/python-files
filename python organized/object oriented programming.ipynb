{
 "cells": [
  {
   "cell_type": "markdown",
   "id": "7928f122-e65e-453e-99d7-bd74241fc759",
   "metadata": {},
   "source": [
    "# bhis"
   ]
  },
  {
   "cell_type": "code",
   "execution_count": 1,
   "id": "c431f502-1de5-475c-82b1-0e61d604fd2e",
   "metadata": {},
   "outputs": [],
   "source": [
    "mylist = [1,2 ,3]"
   ]
  },
  {
   "cell_type": "code",
   "execution_count": 2,
   "id": "0e0c3e79-e2f2-436f-82e8-7c4c2c0b835d",
   "metadata": {},
   "outputs": [],
   "source": [
    "myset = set()"
   ]
  },
  {
   "cell_type": "code",
   "execution_count": 3,
   "id": "5827a10f-04fb-4b2c-83b2-e02f75351878",
   "metadata": {},
   "outputs": [
    {
     "data": {
      "text/plain": [
       "list"
      ]
     },
     "execution_count": 3,
     "metadata": {},
     "output_type": "execute_result"
    }
   ],
   "source": [
    "type(mylist)"
   ]
  },
  {
   "cell_type": "code",
   "execution_count": 4,
   "id": "8f8b5f2c-7019-48d1-b346-ec13373c6397",
   "metadata": {},
   "outputs": [
    {
     "data": {
      "text/plain": [
       "list"
      ]
     },
     "execution_count": 4,
     "metadata": {},
     "output_type": "execute_result"
    }
   ],
   "source": [
    "type(mylist)"
   ]
  },
  {
   "cell_type": "code",
   "execution_count": 20,
   "id": "52139559-5d7a-445b-8416-6b2261272c09",
   "metadata": {},
   "outputs": [],
   "source": [
    "class IsOfPranjal():\n",
    "    def __init__(self,breed ,gif , emotion):\n",
    "        self.breed=breed\n",
    "        self.gif =gif\n",
    "        self.emotion = emotion\n",
    "        \n",
    "    pass"
   ]
  },
  {
   "cell_type": "code",
   "execution_count": 21,
   "id": "3d6f3469-8802-4392-85f0-50b603ae1edb",
   "metadata": {},
   "outputs": [],
   "source": [
    "Abhishek = IsOfPranjal(breed = ' human ' , gif = False , emotion = 'Void')"
   ]
  },
  {
   "cell_type": "code",
   "execution_count": 22,
   "id": "5ee17391-fdd7-491e-b5e6-1215b005c979",
   "metadata": {},
   "outputs": [
    {
     "data": {
      "text/plain": [
       "__main__.IsOfPranjal"
      ]
     },
     "execution_count": 22,
     "metadata": {},
     "output_type": "execute_result"
    }
   ],
   "source": [
    "type(Abhishek)"
   ]
  },
  {
   "cell_type": "code",
   "execution_count": 18,
   "id": "9eb1f77f-2b31-4edc-8cba-377b2000bcc6",
   "metadata": {},
   "outputs": [
    {
     "data": {
      "text/plain": [
       "' human '"
      ]
     },
     "execution_count": 18,
     "metadata": {},
     "output_type": "execute_result"
    }
   ],
   "source": [
    "Abhishek.breed"
   ]
  },
  {
   "cell_type": "code",
   "execution_count": 24,
   "id": "f5bc66f3-1659-44c7-a199-cca36063c85c",
   "metadata": {},
   "outputs": [
    {
     "data": {
      "text/plain": [
       "'Void'"
      ]
     },
     "execution_count": 24,
     "metadata": {},
     "output_type": "execute_result"
    }
   ],
   "source": [
    "Abhishek.emotion"
   ]
  },
  {
   "cell_type": "code",
   "execution_count": 25,
   "id": "6568d92c-2549-4442-bec2-eb5127640438",
   "metadata": {},
   "outputs": [
    {
     "data": {
      "text/plain": [
       "False"
      ]
     },
     "execution_count": 25,
     "metadata": {},
     "output_type": "execute_result"
    }
   ],
   "source": [
    "Abhishek.gif"
   ]
  },
  {
   "cell_type": "code",
   "execution_count": 29,
   "id": "e74c4757-b342-4372-811a-0abf8e0e668a",
   "metadata": {},
   "outputs": [
    {
     "name": "stdout",
     "output_type": "stream",
     "text": [
      " human  Void False\n"
     ]
    }
   ],
   "source": [
    "print(Abhishek.breed,Abhishek.emotion,Abhishek.gif)"
   ]
  },
  {
   "cell_type": "code",
   "execution_count": null,
   "id": "40b4f82a-6b5b-4a75-8fb1-4b271aaa91c2",
   "metadata": {},
   "outputs": [],
   "source": []
  }
 ],
 "metadata": {
  "kernelspec": {
   "display_name": "Python 3 (ipykernel)",
   "language": "python",
   "name": "python3"
  },
  "language_info": {
   "codemirror_mode": {
    "name": "ipython",
    "version": 3
   },
   "file_extension": ".py",
   "mimetype": "text/x-python",
   "name": "python",
   "nbconvert_exporter": "python",
   "pygments_lexer": "ipython3",
   "version": "3.13.2"
  }
 },
 "nbformat": 4,
 "nbformat_minor": 5
}
