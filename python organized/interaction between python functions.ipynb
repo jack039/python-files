{
 "cells": [
  {
   "cell_type": "code",
   "execution_count": 1,
   "id": "418343ea-a80d-4069-a925-af672507f3cf",
   "metadata": {},
   "outputs": [],
   "source": [
    "exmp = [1,2,3,4,5,6,7]"
   ]
  },
  {
   "cell_type": "code",
   "execution_count": 2,
   "id": "e2cc355e-b1e4-490d-b768-03e161d50ea7",
   "metadata": {},
   "outputs": [],
   "source": [
    "from random import shuffle"
   ]
  },
  {
   "cell_type": "code",
   "execution_count": 3,
   "id": "d29e9b15-b5b7-4e5a-bf29-03b0d766785c",
   "metadata": {},
   "outputs": [],
   "source": [
    "shuffle(exmp)"
   ]
  },
  {
   "cell_type": "code",
   "execution_count": 4,
   "id": "c2c43cd2-e5fa-4fe5-92c5-d5fb727abd48",
   "metadata": {},
   "outputs": [
    {
     "data": {
      "text/plain": [
       "[1, 3, 6, 2, 7, 5, 4]"
      ]
     },
     "execution_count": 4,
     "metadata": {},
     "output_type": "execute_result"
    }
   ],
   "source": [
    "exmp"
   ]
  },
  {
   "cell_type": "markdown",
   "id": "c5fd3cd1-f3be-46da-ab30-9d3c1292e8fd",
   "metadata": {},
   "source": [
    "#THE BALL GAME "
   ]
  },
  {
   "cell_type": "code",
   "execution_count": 16,
   "id": "07dc866b-0774-46ad-a826-3ff917a13c5b",
   "metadata": {},
   "outputs": [],
   "source": [
    "#FIRST FUNCTION\n",
    "def shuffle_list(my_list):\n",
    "    shuffle(my_list)\n",
    "    return my_list"
   ]
  },
  {
   "cell_type": "code",
   "execution_count": 9,
   "id": "179cef08-7325-48e1-b78f-a474a661b706",
   "metadata": {},
   "outputs": [],
   "source": [
    "result = shuffle_list(exmp)"
   ]
  },
  {
   "cell_type": "code",
   "execution_count": 10,
   "id": "6e643ccd-1cd3-405e-aa01-f34ed1194331",
   "metadata": {},
   "outputs": [
    {
     "data": {
      "text/plain": [
       "[5, 3, 1, 2, 6, 4, 7]"
      ]
     },
     "execution_count": 10,
     "metadata": {},
     "output_type": "execute_result"
    }
   ],
   "source": [
    "result"
   ]
  },
  {
   "cell_type": "code",
   "execution_count": 11,
   "id": "a63ffa7e-b67d-42ec-b4fa-468f75873ccd",
   "metadata": {},
   "outputs": [],
   "source": [
    "my_list = [' ','O',' ']"
   ]
  },
  {
   "cell_type": "code",
   "execution_count": 15,
   "id": "8b14311a-fcdc-416e-b23a-d0a851cf8f72",
   "metadata": {},
   "outputs": [
    {
     "data": {
      "text/plain": [
       "[' ', ' ', 'O']"
      ]
     },
     "execution_count": 15,
     "metadata": {},
     "output_type": "execute_result"
    }
   ],
   "source": [
    "shuffle_list(my_list)"
   ]
  },
  {
   "cell_type": "code",
   "execution_count": 17,
   "id": "4040a06b-9825-4156-a967-adf4fb081ef6",
   "metadata": {},
   "outputs": [],
   "source": [
    "#2ND FUNCTION\n",
    "def guess_no():\n",
    "    guess=''\n",
    "    while guess not in ['1','2','0']:\n",
    "        guess = input('guess no form 0 ,1 or 2')\n",
    "\n",
    "    return int(guess)"
   ]
  },
  {
   "cell_type": "code",
   "execution_count": 18,
   "id": "06c151e5-803d-4c73-95ad-4b1a2ce6d16f",
   "metadata": {},
   "outputs": [
    {
     "name": "stdin",
     "output_type": "stream",
     "text": [
      "guess no form 0 ,1 or 2 8\n",
      "guess no form 0 ,1 or 2 3\n",
      "guess no form 0 ,1 or 2 1\n"
     ]
    },
    {
     "data": {
      "text/plain": [
       "1"
      ]
     },
     "execution_count": 18,
     "metadata": {},
     "output_type": "execute_result"
    }
   ],
   "source": [
    "guess_no()"
   ]
  },
  {
   "cell_type": "code",
   "execution_count": 19,
   "id": "be3c6aa7-c58b-4e42-9a5b-7f93268f4678",
   "metadata": {},
   "outputs": [
    {
     "name": "stdin",
     "output_type": "stream",
     "text": [
      "guess no form 0 ,1 or 2 2\n"
     ]
    }
   ],
   "source": [
    "myindex = guess_no()"
   ]
  },
  {
   "cell_type": "code",
   "execution_count": 20,
   "id": "2718c3d4-3daf-470d-abf7-3129aee6efc2",
   "metadata": {},
   "outputs": [
    {
     "data": {
      "text/plain": [
       "2"
      ]
     },
     "execution_count": 20,
     "metadata": {},
     "output_type": "execute_result"
    }
   ],
   "source": [
    "myindex"
   ]
  },
  {
   "cell_type": "code",
   "execution_count": 24,
   "id": "62e3318e-98a4-4939-8da9-a1544e160de7",
   "metadata": {},
   "outputs": [],
   "source": [
    "#3RD FUNCTION \n",
    "def check_guess(my_list,guess):\n",
    "    if my_list[guess]=='O':\n",
    "        print('CORRECT!!!')\n",
    "    else :\n",
    "        print('WRONG GUESS :<')\n",
    "        print(my_list)"
   ]
  },
  {
   "cell_type": "code",
   "execution_count": 34,
   "id": "410ae125-c2e6-41c9-a22c-ff64fed3c47c",
   "metadata": {},
   "outputs": [
    {
     "name": "stdin",
     "output_type": "stream",
     "text": [
      "guess no form 0 ,1 or 2 1\n"
     ]
    },
    {
     "name": "stdout",
     "output_type": "stream",
     "text": [
      "CORRECT!!!\n"
     ]
    }
   ],
   "source": [
    "#main logic\n",
    "\n",
    "#MY_LIST\n",
    "my_list = [' ' , 'O' ,' ']\n",
    "\n",
    "#SHUFFLE MY LIST\n",
    "mix_list = shuffle_list(my_list)\n",
    "\n",
    "#USER GUESS\n",
    "guess=guess_no()\n",
    "\n",
    "#CHECK GUESS\n",
    "check_guess(mix_list,guess)"
   ]
  },
  {
   "cell_type": "code",
   "execution_count": null,
   "id": "07a6d9ea-0fda-466b-9c54-157a3861a462",
   "metadata": {},
   "outputs": [],
   "source": []
  }
 ],
 "metadata": {
  "kernelspec": {
   "display_name": "Python 3 (ipykernel)",
   "language": "python",
   "name": "python3"
  },
  "language_info": {
   "codemirror_mode": {
    "name": "ipython",
    "version": 3
   },
   "file_extension": ".py",
   "mimetype": "text/x-python",
   "name": "python",
   "nbconvert_exporter": "python",
   "pygments_lexer": "ipython3",
   "version": "3.13.1"
  }
 },
 "nbformat": 4,
 "nbformat_minor": 5
}
