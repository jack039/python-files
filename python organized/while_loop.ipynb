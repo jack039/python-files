{
 "cells": [
  {
   "cell_type": "code",
   "execution_count": 5,
   "id": "4a104d7e-3770-4214-a836-26e68e9fa71a",
   "metadata": {},
   "outputs": [
    {
     "name": "stdout",
     "output_type": "stream",
     "text": [
      "the current value of x is :0\n",
      "the current value of x is :1\n",
      "the current value of x is :2\n",
      "the current value of x is :3\n",
      "the current value of x is :4\n",
      "x is not less than 5\n"
     ]
    }
   ],
   "source": [
    "x = 0\n",
    "\n",
    "while x<5:\n",
    "    print(f'the current value of x is :{x}')\n",
    "    x+=1\n",
    "else:\n",
    "    print('x is not less than 5')"
   ]
  },
  {
   "cell_type": "code",
   "execution_count": 9,
   "id": "dc5c1494-d763-4b84-a9b5-fe98483204eb",
   "metadata": {},
   "outputs": [
    {
     "name": "stdout",
     "output_type": "stream",
     "text": [
      "end of my lv\n"
     ]
    }
   ],
   "source": [
    "x = [1,2,3]\n",
    "for item in x:\n",
    "    #comment\n",
    "    pass\n",
    "print('end of my lv')\n"
   ]
  },
  {
   "cell_type": "code",
   "execution_count": 10,
   "id": "9262eeeb-c145-48ec-8700-59376e35568f",
   "metadata": {},
   "outputs": [
    {
     "name": "stdout",
     "output_type": "stream",
     "text": [
      "sammy\n"
     ]
    }
   ],
   "source": [
    "mystring = 'sammy'\n",
    "print(mystring)"
   ]
  },
  {
   "cell_type": "code",
   "execution_count": 12,
   "id": "9df11ebd-46b2-4ebd-9a4b-d77a70bfa747",
   "metadata": {},
   "outputs": [
    {
     "name": "stdout",
     "output_type": "stream",
     "text": [
      "s\n",
      "m\n",
      "m\n",
      "y\n"
     ]
    }
   ],
   "source": [
    "for ln in mystring:\n",
    "    if ln == 'a':\n",
    "        continue\n",
    "    print(ln)"
   ]
  },
  {
   "cell_type": "code",
   "execution_count": 13,
   "id": "4595cd02-c248-41ba-a970-c55227d39f0e",
   "metadata": {},
   "outputs": [
    {
     "name": "stdout",
     "output_type": "stream",
     "text": [
      "s\n"
     ]
    }
   ],
   "source": [
    "for ln in mystring:\n",
    "    if ln == 'a':\n",
    "        break\n",
    "    print(ln)"
   ]
  },
  {
   "cell_type": "code",
   "execution_count": 16,
   "id": "450a1372-96b7-43eb-9e36-030fbb309b90",
   "metadata": {},
   "outputs": [
    {
     "name": "stdout",
     "output_type": "stream",
     "text": [
      "0\n",
      "1\n"
     ]
    }
   ],
   "source": [
    "x = 0\n",
    "\n",
    "while x < 5:\n",
    "\n",
    "    if x==2:\n",
    "        break\n",
    "    print(x)\n",
    "    x+=1"
   ]
  },
  {
   "cell_type": "code",
   "execution_count": null,
   "id": "18d28cce-ecdd-4aa9-8ea4-de285ceef81b",
   "metadata": {},
   "outputs": [],
   "source": []
  }
 ],
 "metadata": {
  "kernelspec": {
   "display_name": "Python 3 (ipykernel)",
   "language": "python",
   "name": "python3"
  },
  "language_info": {
   "codemirror_mode": {
    "name": "ipython",
    "version": 3
   },
   "file_extension": ".py",
   "mimetype": "text/x-python",
   "name": "python",
   "nbconvert_exporter": "python",
   "pygments_lexer": "ipython3",
   "version": "3.13.1"
  }
 },
 "nbformat": 4,
 "nbformat_minor": 5
}
