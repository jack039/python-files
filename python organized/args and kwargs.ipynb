{
 "cells": [
  {
   "cell_type": "code",
   "execution_count": 13,
   "id": "196e5540-5db6-4317-a1b9-03d30301de25",
   "metadata": {},
   "outputs": [],
   "source": [
    "def myfunc(a,b,c=0,d=0,e=0):\n",
    "    #returns 5% of sum of a and b\n",
    "    return sum((a,b,c,d,e))*0.05"
   ]
  },
  {
   "cell_type": "code",
   "execution_count": 14,
   "id": "58d8d31f-697f-4dd6-944a-ea523fe5d9f1",
   "metadata": {},
   "outputs": [
    {
     "data": {
      "text/plain": [
       "4.5"
      ]
     },
     "execution_count": 14,
     "metadata": {},
     "output_type": "execute_result"
    }
   ],
   "source": [
    "myfunc(40,50)"
   ]
  },
  {
   "cell_type": "code",
   "execution_count": 15,
   "id": "493a6f5a-169d-4bf8-934b-d6b6e238b2ae",
   "metadata": {},
   "outputs": [
    {
     "data": {
      "text/plain": [
       "27.0"
      ]
     },
     "execution_count": 15,
     "metadata": {},
     "output_type": "execute_result"
    }
   ],
   "source": [
    "myfunc(40,50,50,100,300)"
   ]
  },
  {
   "cell_type": "code",
   "execution_count": 16,
   "id": "b9005084-c832-4a44-8e70-d96b77398f53",
   "metadata": {},
   "outputs": [],
   "source": [
    "def myfunc(*args):\n",
    "    return sum(args)*0.07"
   ]
  },
  {
   "cell_type": "code",
   "execution_count": 18,
   "id": "f2e66812-654a-455a-89e0-c6d7d09501cd",
   "metadata": {},
   "outputs": [
    {
     "data": {
      "text/plain": [
       "12.600000000000001"
      ]
     },
     "execution_count": 18,
     "metadata": {},
     "output_type": "execute_result"
    }
   ],
   "source": [
    "myfunc(10,20,30,40,50,10,20)"
   ]
  },
  {
   "cell_type": "code",
   "execution_count": 2,
   "id": "1ae42730-9f10-4dde-91f7-6dde8076d5a5",
   "metadata": {},
   "outputs": [],
   "source": [
    "def myfunc(**kwargs):\n",
    "    if 'fruits' in kwargs:\n",
    "        print ('my fruit of choice is {}'.format(kwargs['fruits']))\n",
    "    else:\n",
    "        print('I did not find a fruit')"
   ]
  },
  {
   "cell_type": "code",
   "execution_count": 4,
   "id": "2b5f21d4-8cc0-47fa-8959-f17003f223e4",
   "metadata": {},
   "outputs": [
    {
     "name": "stdout",
     "output_type": "stream",
     "text": [
      "my fruit of choice is prj\n"
     ]
    }
   ],
   "source": [
    "myfunc(fruits = 'prj')"
   ]
  },
  {
   "cell_type": "code",
   "execution_count": 5,
   "id": "83182ce9-57b3-40be-8e98-d5a1538e333b",
   "metadata": {},
   "outputs": [],
   "source": [
    "def myfunc(*args,**kwargs):\n",
    "    print('i like {} {} times'.format(kwargs['candy'],args[0]))"
   ]
  },
  {
   "cell_type": "code",
   "execution_count": 6,
   "id": "1c2b78ae-b604-44a4-bbfd-5ba19ab5fa31",
   "metadata": {},
   "outputs": [
    {
     "name": "stdout",
     "output_type": "stream",
     "text": [
      "i like prj 10000 times\n"
     ]
    }
   ],
   "source": [
    "myfunc(10000,2,3,candy='prj',food='butter',canndy='pr')"
   ]
  },
  {
   "cell_type": "code",
   "execution_count": 61,
   "id": "1f5c473f-8407-4a6c-a626-903be16e10d6",
   "metadata": {},
   "outputs": [],
   "source": [
    "def myfunc(a):\n",
    "    st=[]\n",
    "    for i in range(len(a)) :\n",
    "        if i%2==0:\n",
    "            st.append(a[i].lower())\n",
    "        else:\n",
    "            st.append(a[i].upper())\n",
    "    st\n",
    "    return ''.join(st)"
   ]
  },
  {
   "cell_type": "code",
   "execution_count": 62,
   "id": "2df02a8c-fda1-49c0-919d-8451cbfe808a",
   "metadata": {},
   "outputs": [
    {
     "data": {
      "text/plain": [
       "'aBhIsHeK'"
      ]
     },
     "execution_count": 62,
     "metadata": {},
     "output_type": "execute_result"
    }
   ],
   "source": [
    "myfunc('abhishek')"
   ]
  },
  {
   "cell_type": "code",
   "execution_count": null,
   "id": "63491445-5cf0-4156-9ca3-0dc22183f4a9",
   "metadata": {},
   "outputs": [],
   "source": []
  }
 ],
 "metadata": {
  "kernelspec": {
   "display_name": "Python 3 (ipykernel)",
   "language": "python",
   "name": "python3"
  },
  "language_info": {
   "codemirror_mode": {
    "name": "ipython",
    "version": 3
   },
   "file_extension": ".py",
   "mimetype": "text/x-python",
   "name": "python",
   "nbconvert_exporter": "python",
   "pygments_lexer": "ipython3",
   "version": "3.13.1"
  }
 },
 "nbformat": 4,
 "nbformat_minor": 5
}
