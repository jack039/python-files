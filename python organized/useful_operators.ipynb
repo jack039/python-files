{
 "cells": [
  {
   "cell_type": "code",
   "execution_count": 1,
   "id": "ef466617-3a73-4f2a-838e-6017ec238d8f",
   "metadata": {},
   "outputs": [],
   "source": [
    "mylist = [1,2,3,4]"
   ]
  },
  {
   "cell_type": "code",
   "execution_count": 4,
   "id": "30f62341-3228-4e35-adbb-986cd9eaf163",
   "metadata": {},
   "outputs": [
    {
     "name": "stdout",
     "output_type": "stream",
     "text": [
      "0\n",
      "2\n",
      "4\n",
      "6\n",
      "8\n",
      "10\n"
     ]
    }
   ],
   "source": [
    "for num in range(0,11,2):\n",
    "    print(num)"
   ]
  },
  {
   "cell_type": "code",
   "execution_count": 5,
   "id": "536efb86-2073-4e32-93f7-1332ad58dbe5",
   "metadata": {},
   "outputs": [
    {
     "data": {
      "text/plain": [
       "range(0, 11, 2)"
      ]
     },
     "execution_count": 5,
     "metadata": {},
     "output_type": "execute_result"
    }
   ],
   "source": [
    "range(0,11,2)"
   ]
  },
  {
   "cell_type": "code",
   "execution_count": 9,
   "id": "6eaee6d0-7187-40a9-be65-a24d59cafd2a",
   "metadata": {},
   "outputs": [
    {
     "data": {
      "text/plain": [
       "[1, 3, 5, 7, 9]"
      ]
     },
     "execution_count": 9,
     "metadata": {},
     "output_type": "execute_result"
    }
   ],
   "source": [
    "list(range(1,11,2))"
   ]
  },
  {
   "cell_type": "code",
   "execution_count": 14,
   "id": "70705892-8920-4296-9d4f-530f798b5a4c",
   "metadata": {},
   "outputs": [
    {
     "name": "stdout",
     "output_type": "stream",
     "text": [
      "at index 0 the letter is a\n",
      "at index 1 the letter is b\n",
      "at index 2 the letter is c\n",
      "at index 3 the letter is d\n",
      "at index 4 the letter is e\n"
     ]
    }
   ],
   "source": [
    "index_count =0\n",
    "\n",
    "for letter in 'abcde':\n",
    "    print('at index {} the letter is {}'.format(index_count,letter))\n",
    "    index_count+=1"
   ]
  },
  {
   "cell_type": "code",
   "execution_count": 13,
   "id": "ce7b8d2e-a9d1-4315-a3ed-9c33f87f17d5",
   "metadata": {},
   "outputs": [
    {
     "name": "stdout",
     "output_type": "stream",
     "text": [
      "a\n",
      "b\n",
      "c\n",
      "d\n",
      "e\n"
     ]
    }
   ],
   "source": [
    "index_count =0\n",
    "word ='abcde'\n",
    "for letter in word:\n",
    "    print(word[index_count])\n",
    "    index_count+=1"
   ]
  },
  {
   "cell_type": "code",
   "execution_count": 16,
   "id": "fc18de0c-90b2-46a3-9275-02c3ee495f7d",
   "metadata": {},
   "outputs": [
    {
     "name": "stdout",
     "output_type": "stream",
     "text": [
      "a\n",
      "0\n",
      "b\n",
      "1\n",
      "c\n",
      "2\n",
      "d\n",
      "3\n",
      "e\n",
      "4\n"
     ]
    }
   ],
   "source": [
    "word ='abcde'\n",
    "\n",
    "for index,letter in enumerate(word):\n",
    "    print (letter)\n",
    "    print (index)"
   ]
  },
  {
   "cell_type": "code",
   "execution_count": 23,
   "id": "8d56d4a2-2c43-4ef2-8ea4-df06e5aa4a37",
   "metadata": {},
   "outputs": [],
   "source": [
    "mylist1 = [1,2,3]\n",
    "mylist2 = ['a','b','c']\n",
    "mylist3 = [100,200,300,400,500]"
   ]
  },
  {
   "cell_type": "code",
   "execution_count": 24,
   "id": "93a376c5-37b4-4198-a8ca-01ef4f0e80e8",
   "metadata": {},
   "outputs": [
    {
     "name": "stdout",
     "output_type": "stream",
     "text": [
      "(1, 'a', 100)\n",
      "(2, 'b', 200)\n",
      "(3, 'c', 300)\n"
     ]
    }
   ],
   "source": [
    "for item in zip(mylist1,mylist2,mylist3):\n",
    "    print(item)\n",
    "    "
   ]
  },
  {
   "cell_type": "code",
   "execution_count": 25,
   "id": "f832a3d7-6631-49b2-856e-1a297f1e9a29",
   "metadata": {},
   "outputs": [
    {
     "data": {
      "text/plain": [
       "False"
      ]
     },
     "execution_count": 25,
     "metadata": {},
     "output_type": "execute_result"
    }
   ],
   "source": [
    "'x' in mylist1"
   ]
  },
  {
   "cell_type": "code",
   "execution_count": 26,
   "id": "54c0ee00-bdd0-4ab1-9582-1b0123a1b336",
   "metadata": {},
   "outputs": [
    {
     "data": {
      "text/plain": [
       "True"
      ]
     },
     "execution_count": 26,
     "metadata": {},
     "output_type": "execute_result"
    }
   ],
   "source": [
    "'prj' in {'prj':1}"
   ]
  },
  {
   "cell_type": "code",
   "execution_count": 27,
   "id": "21d2fb1f-0290-4f9f-b535-c71ff3f65fb1",
   "metadata": {},
   "outputs": [
    {
     "data": {
      "text/plain": [
       "False"
      ]
     },
     "execution_count": 27,
     "metadata": {},
     "output_type": "execute_result"
    }
   ],
   "source": [
    "d = {'prj':1}\n",
    "'k1' in d.keys()"
   ]
  },
  {
   "cell_type": "code",
   "execution_count": 29,
   "id": "a9e36a20-fa01-4017-b3ec-9c3b12853967",
   "metadata": {},
   "outputs": [
    {
     "data": {
      "text/plain": [
       "1"
      ]
     },
     "execution_count": 29,
     "metadata": {},
     "output_type": "execute_result"
    }
   ],
   "source": [
    "mylist=[1,2,3,4]\n",
    "min(mylist)"
   ]
  },
  {
   "cell_type": "code",
   "execution_count": 30,
   "id": "57def188-c5b6-4125-a895-78a8b6f0426b",
   "metadata": {},
   "outputs": [
    {
     "data": {
      "text/plain": [
       "4"
      ]
     },
     "execution_count": 30,
     "metadata": {},
     "output_type": "execute_result"
    }
   ],
   "source": [
    "max(mylist)"
   ]
  },
  {
   "cell_type": "code",
   "execution_count": 31,
   "id": "f6c61f54-210a-4ab1-87c9-208499eabd59",
   "metadata": {},
   "outputs": [],
   "source": [
    "from random import shuffle"
   ]
  },
  {
   "cell_type": "code",
   "execution_count": 32,
   "id": "ad693683-aa91-4927-aa14-95e916f8da3d",
   "metadata": {},
   "outputs": [],
   "source": [
    "mylist = [3,4,5,6,7,8,9]"
   ]
  },
  {
   "cell_type": "code",
   "execution_count": 37,
   "id": "a2cdd6d0-3d60-4f55-8491-b22d89b34ea9",
   "metadata": {},
   "outputs": [],
   "source": [
    "shuffle(mylist)"
   ]
  },
  {
   "cell_type": "code",
   "execution_count": 38,
   "id": "14778010-96b0-476b-9ec3-809af2f67416",
   "metadata": {},
   "outputs": [
    {
     "data": {
      "text/plain": [
       "[5, 8, 3, 9, 4, 7, 6]"
      ]
     },
     "execution_count": 38,
     "metadata": {},
     "output_type": "execute_result"
    }
   ],
   "source": [
    "mylist"
   ]
  },
  {
   "cell_type": "code",
   "execution_count": 39,
   "id": "ad0cfdff-ca90-465f-af27-eedb8531e22f",
   "metadata": {},
   "outputs": [],
   "source": [
    "from random import randint"
   ]
  },
  {
   "cell_type": "code",
   "execution_count": 41,
   "id": "34cc2812-ec07-4e13-b42c-b239b76c9d12",
   "metadata": {},
   "outputs": [
    {
     "data": {
      "text/plain": [
       "67"
      ]
     },
     "execution_count": 41,
     "metadata": {},
     "output_type": "execute_result"
    }
   ],
   "source": [
    "randint(0 , 100)"
   ]
  },
  {
   "cell_type": "code",
   "execution_count": 42,
   "id": "a7199c48-425e-41be-92b8-e8f291160978",
   "metadata": {},
   "outputs": [
    {
     "data": {
      "text/plain": [
       "2"
      ]
     },
     "execution_count": 42,
     "metadata": {},
     "output_type": "execute_result"
    }
   ],
   "source": [
    "randint(0 , 100)"
   ]
  },
  {
   "cell_type": "code",
   "execution_count": 46,
   "id": "d53e1e2e-bd72-4544-829a-70d16c2a8e6e",
   "metadata": {},
   "outputs": [
    {
     "name": "stdin",
     "output_type": "stream",
     "text": [
      "enter a number: 12\n"
     ]
    }
   ],
   "source": [
    "result = int(input('enter a number:'))"
   ]
  },
  {
   "cell_type": "code",
   "execution_count": 47,
   "id": "810e5830-6ea8-4c6c-adb7-2e7decec7e7b",
   "metadata": {},
   "outputs": [
    {
     "data": {
      "text/plain": [
       "12"
      ]
     },
     "execution_count": 47,
     "metadata": {},
     "output_type": "execute_result"
    }
   ],
   "source": [
    "result"
   ]
  },
  {
   "cell_type": "code",
   "execution_count": 48,
   "id": "3aa99365-f5da-46a7-adba-526ffdf1eab8",
   "metadata": {},
   "outputs": [
    {
     "data": {
      "text/plain": [
       "12"
      ]
     },
     "execution_count": 48,
     "metadata": {},
     "output_type": "execute_result"
    }
   ],
   "source": [
    "int(result)"
   ]
  },
  {
   "cell_type": "code",
   "execution_count": null,
   "id": "c95223ec-c479-4c12-99c3-f49988ddca49",
   "metadata": {},
   "outputs": [],
   "source": []
  }
 ],
 "metadata": {
  "kernelspec": {
   "display_name": "Python 3 (ipykernel)",
   "language": "python",
   "name": "python3"
  },
  "language_info": {
   "codemirror_mode": {
    "name": "ipython",
    "version": 3
   },
   "file_extension": ".py",
   "mimetype": "text/x-python",
   "name": "python",
   "nbconvert_exporter": "python",
   "pygments_lexer": "ipython3",
   "version": "3.13.1"
  }
 },
 "nbformat": 4,
 "nbformat_minor": 5
}
