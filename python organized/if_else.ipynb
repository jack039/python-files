{
 "cells": [
  {
   "cell_type": "code",
   "execution_count": 2,
   "id": "c6e52bec-3edd-46e6-9154-0c8a8763f150",
   "metadata": {},
   "outputs": [
    {
     "name": "stdout",
     "output_type": "stream",
     "text": [
      "its true\n"
     ]
    }
   ],
   "source": [
    "if 3>2:\n",
    "    print(\"its true\")"
   ]
  },
  {
   "cell_type": "code",
   "execution_count": 3,
   "id": "0494836f-d494-44f6-9683-307be164845f",
   "metadata": {},
   "outputs": [
    {
     "name": "stdout",
     "output_type": "stream",
     "text": [
      "feed dog\n"
     ]
    }
   ],
   "source": [
    "hungary = True\n",
    "if hungary:\n",
    "    print('feed dog')"
   ]
  },
  {
   "cell_type": "code",
   "execution_count": 5,
   "id": "914e288a-34ee-42b5-95ca-eb7587bd652d",
   "metadata": {},
   "outputs": [
    {
     "name": "stdout",
     "output_type": "stream",
     "text": [
      "dont go pls\n"
     ]
    }
   ],
   "source": [
    "hungary = False\n",
    "if hungary:\n",
    "    print('feed dog')\n",
    "else :\n",
    "    print('dont go pls')"
   ]
  },
  {
   "cell_type": "code",
   "execution_count": 8,
   "id": "a8ffb1b6-6056-48db-b27e-3bd4a8c11fcc",
   "metadata": {},
   "outputs": [
    {
     "name": "stdout",
     "output_type": "stream",
     "text": [
      "give her my money\n"
     ]
    }
   ],
   "source": [
    "loc = 'bank'\n",
    "if loc =='auto shop':\n",
    "    print('cars are cool')\n",
    "elif loc=='bank':\n",
    "    print('give her my money')\n",
    "else :\n",
    "    print('he is bad')"
   ]
  },
  {
   "cell_type": "code",
   "execution_count": 13,
   "id": "c6eba15d-4939-4363-b23e-739903a66eca",
   "metadata": {},
   "outputs": [
    {
     "name": "stdout",
     "output_type": "stream",
     "text": [
      "mine\n"
     ]
    }
   ],
   "source": [
    "name ='prj'\n",
    "if name =='abhi':\n",
    "    print('hello for 1st time')\n",
    "elif name =='prj':\n",
    "    print('mine')\n",
    "else:\n",
    "    print(18+18)"
   ]
  },
  {
   "cell_type": "code",
   "execution_count": null,
   "id": "1e87225e-52ab-4a9c-bef3-b24169602218",
   "metadata": {},
   "outputs": [],
   "source": []
  }
 ],
 "metadata": {
  "kernelspec": {
   "display_name": "Python 3 (ipykernel)",
   "language": "python",
   "name": "python3"
  },
  "language_info": {
   "codemirror_mode": {
    "name": "ipython",
    "version": 3
   },
   "file_extension": ".py",
   "mimetype": "text/x-python",
   "name": "python",
   "nbconvert_exporter": "python",
   "pygments_lexer": "ipython3",
   "version": "3.13.1"
  }
 },
 "nbformat": 4,
 "nbformat_minor": 5
}
