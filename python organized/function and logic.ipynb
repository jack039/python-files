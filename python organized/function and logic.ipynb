{
 "cells": [
  {
   "cell_type": "code",
   "execution_count": 1,
   "id": "ccb7ed1a-2d45-4ea6-88ca-d460e5d86e30",
   "metadata": {},
   "outputs": [
    {
     "data": {
      "text/plain": [
       "0"
      ]
     },
     "execution_count": 1,
     "metadata": {},
     "output_type": "execute_result"
    }
   ],
   "source": [
    "2%2"
   ]
  },
  {
   "cell_type": "code",
   "execution_count": 2,
   "id": "d4f2a345-82c9-4127-93b0-bf9b0d98662b",
   "metadata": {},
   "outputs": [
    {
     "data": {
      "text/plain": [
       "1"
      ]
     },
     "execution_count": 2,
     "metadata": {},
     "output_type": "execute_result"
    }
   ],
   "source": [
    "3%2"
   ]
  },
  {
   "cell_type": "code",
   "execution_count": 3,
   "id": "b5e670ab-2897-48e6-93cb-970bc77184aa",
   "metadata": {},
   "outputs": [
    {
     "data": {
      "text/plain": [
       "0"
      ]
     },
     "execution_count": 3,
     "metadata": {},
     "output_type": "execute_result"
    }
   ],
   "source": [
    "20 % 2"
   ]
  },
  {
   "cell_type": "code",
   "execution_count": 4,
   "id": "a0078247-037c-4cd8-ae91-ffde815dea4e",
   "metadata": {},
   "outputs": [
    {
     "data": {
      "text/plain": [
       "False"
      ]
     },
     "execution_count": 4,
     "metadata": {},
     "output_type": "execute_result"
    }
   ],
   "source": [
    "21 % 2==0"
   ]
  },
  {
   "cell_type": "code",
   "execution_count": 8,
   "id": "6efdae8e-b6a7-476f-a9cd-9647946159f6",
   "metadata": {},
   "outputs": [],
   "source": [
    "def even_checker(num):\n",
    "    return num % 2==0\n",
    "    "
   ]
  },
  {
   "cell_type": "code",
   "execution_count": 10,
   "id": "e7c56eeb-052f-472d-adf1-98d52442b5ed",
   "metadata": {},
   "outputs": [
    {
     "data": {
      "text/plain": [
       "False"
      ]
     },
     "execution_count": 10,
     "metadata": {},
     "output_type": "execute_result"
    }
   ],
   "source": [
    "even_checker(67)"
   ]
  },
  {
   "cell_type": "code",
   "execution_count": 11,
   "id": "ab4587a6-5026-4720-8254-210e5b0439fe",
   "metadata": {},
   "outputs": [
    {
     "data": {
      "text/plain": [
       "True"
      ]
     },
     "execution_count": 11,
     "metadata": {},
     "output_type": "execute_result"
    }
   ],
   "source": [
    "even_checker(68)"
   ]
  },
  {
   "cell_type": "code",
   "execution_count": 31,
   "id": "6376d251-cadf-4e65-a473-d7a3d5d10d41",
   "metadata": {},
   "outputs": [],
   "source": [
    "#RETURN TRUE IF ANY NO INSIDE LIST IS EVEN\n",
    "def check_even_list(num_list):\n",
    "    for num in num_list:\n",
    "        if num%2==0:\n",
    "            return 'True'\n",
    "        else :\n",
    "            pass\n",
    "    return False"
   ]
  },
  {
   "cell_type": "code",
   "execution_count": 32,
   "id": "bb740ea7-bbdb-476d-b04a-f8a4946fa33b",
   "metadata": {},
   "outputs": [],
   "source": [
    "num_list = [1,3,5,7,9]"
   ]
  },
  {
   "cell_type": "code",
   "execution_count": 33,
   "id": "e221c6cb-244c-4313-b81d-0dc8a3fcbc4c",
   "metadata": {},
   "outputs": [
    {
     "data": {
      "text/plain": [
       "False"
      ]
     },
     "execution_count": 33,
     "metadata": {},
     "output_type": "execute_result"
    }
   ],
   "source": [
    "check_even_list(num_list)"
   ]
  },
  {
   "cell_type": "code",
   "execution_count": 34,
   "id": "ca830472-843c-4e0e-a985-fc5fda972ee1",
   "metadata": {},
   "outputs": [
    {
     "data": {
      "text/plain": [
       "'True'"
      ]
     },
     "execution_count": 34,
     "metadata": {},
     "output_type": "execute_result"
    }
   ],
   "source": [
    "check_even_list([1,2,3,4,5])"
   ]
  },
  {
   "cell_type": "code",
   "execution_count": 35,
   "id": "6f2d3152-f41c-411e-ab09-e0ab49e3a617",
   "metadata": {},
   "outputs": [],
   "source": [
    "def check_even_list(num_list):\n",
    "#RETURN EVERY EVEN NO IN THE GIVEN LIST\n",
    "    #PLACE_HOLDER:\n",
    "    even_list =[]\n",
    "    for num in num_list:\n",
    "        if num%2==0:\n",
    "           even_list.append(num)\n",
    "        else :\n",
    "            pass\n",
    "    return even_list"
   ]
  },
  {
   "cell_type": "code",
   "execution_count": 36,
   "id": "bc95207e-7586-4079-a565-888ddb97968d",
   "metadata": {},
   "outputs": [],
   "source": [
    "num_list = [1,3,5,7,9]"
   ]
  },
  {
   "cell_type": "code",
   "execution_count": 37,
   "id": "88c194cc-9a8e-408f-b735-5cd6d5e4866a",
   "metadata": {},
   "outputs": [
    {
     "data": {
      "text/plain": [
       "[]"
      ]
     },
     "execution_count": 37,
     "metadata": {},
     "output_type": "execute_result"
    }
   ],
   "source": [
    "check_even_list(num_list)"
   ]
  },
  {
   "cell_type": "code",
   "execution_count": 38,
   "id": "228ca046-7228-4f60-a5e8-d4cbf55df0e1",
   "metadata": {},
   "outputs": [
    {
     "data": {
      "text/plain": [
       "[2, 4]"
      ]
     },
     "execution_count": 38,
     "metadata": {},
     "output_type": "execute_result"
    }
   ],
   "source": [
    "check_even_list([1,2,3,4,5])"
   ]
  },
  {
   "cell_type": "code",
   "execution_count": null,
   "id": "6753ad62-dab5-48f9-b5a5-e0bc7a9f9787",
   "metadata": {},
   "outputs": [],
   "source": []
  }
 ],
 "metadata": {
  "kernelspec": {
   "display_name": "Python 3 (ipykernel)",
   "language": "python",
   "name": "python3"
  },
  "language_info": {
   "codemirror_mode": {
    "name": "ipython",
    "version": 3
   },
   "file_extension": ".py",
   "mimetype": "text/x-python",
   "name": "python",
   "nbconvert_exporter": "python",
   "pygments_lexer": "ipython3",
   "version": "3.13.1"
  }
 },
 "nbformat": 4,
 "nbformat_minor": 5
}
